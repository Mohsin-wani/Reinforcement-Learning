{
 "cells": [
  {
   "cell_type": "code",
   "execution_count": 1,
   "metadata": {},
   "outputs": [],
   "source": [
    "import numpy as np\n",
    "import tensorflow as tf\n",
    "import gym\n",
    "import matplotlib.pyplot as plt"
   ]
  },
  {
   "cell_type": "code",
   "execution_count": 2,
   "metadata": {},
   "outputs": [
    {
     "name": "stdout",
     "output_type": "stream",
     "text": [
      "env : <TimeLimit<CartPoleEnv<CartPole-v1>>>\n",
      "State shape: (4,)\n",
      "Action shape: ()\n",
      "action space Discrete(2) observation space : Box([-4.8000002e+00 -3.4028235e+38 -4.1887903e-01 -3.4028235e+38], [4.8000002e+00 3.4028235e+38 4.1887903e-01 3.4028235e+38], (4,), float32)\n",
      "4\n",
      "2\n"
     ]
    }
   ],
   "source": [
    "env_name = 'CartPole-v1'\n",
    "\n",
    "env = gym.make(env_name)\n",
    "\n",
    "print(f'env : {env}')\n",
    "state_shape, action_shape = env.observation_space.shape, env.action_space.shape\n",
    "print('State shape: {}'.format(state_shape))\n",
    "print('Action shape: {}'.format(action_shape))\n",
    "print(f'action space {env.action_space} observation space : {env.observation_space}')\n",
    "state_dim = env.observation_space.shape[0]\n",
    "n_actions = env.action_space.n\n",
    "print(state_dim)\n",
    "print(n_actions)"
   ]
  },
  {
   "cell_type": "code",
   "execution_count": 4,
   "metadata": {},
   "outputs": [],
   "source": [
    "class PolicyNet(tf.keras.Model):\n",
    "    def __init__(self, n_actions):\n",
    "        super(PolicyNet,self).__init__()\n",
    "        self.fc1 = tf.keras.layers.Dense(128,activation='relu')\n",
    "        self.fc2 = tf.keras.layers.Dense(64,activation='relu')\n",
    "        self.fc3 = tf.keras.layers.Dense(n_actions)\n",
    "    def call(self, state):\n",
    "        x = self.fc1(state)\n",
    "        x = self.fc2(x)\n",
    "        out = self.fc3(x)\n",
    "        return out"
   ]
  },
  {
   "cell_type": "code",
   "execution_count": 5,
   "metadata": {},
   "outputs": [],
   "source": [
    "class ReinforceAgent:\n",
    "    def __init__(self, env, state_dim, n_actions, lr = 0.001, gamma = 0.99):\n",
    "        self.gamma = 0.99\n",
    "        self.n_actions = n_actions\n",
    "        self.state_dim = state_dim\n",
    "        self.env = env\n",
    "        self.network = PolicyNet(self.n_actions)\n",
    "        state = env.reset()\n",
    "        qs = self.network(state[np.newaxis])\n",
    "        self.optimizer1 = tf.keras.optimizers.Adam(learning_rate=lr)\n",
    "\n",
    "    def reward_to_go(self,rewards):\n",
    "        count = len(rewards)\n",
    "        rtg = [0]*count\n",
    "\n",
    "        rtg[count-1] = rewards[count-1]\n",
    "\n",
    "        for i in range(count-2,-1,-1):\n",
    "            rtg[i] = rewards[i] + self.gamma * rtg[i+1]\n",
    "        return np.array(rtg,np.float32)\n",
    "    \n",
    "    def generate_trajectory(self, max_steps=500):\n",
    "        states, actions, rewards = [], [], []\n",
    "        state = self.env.reset()        \n",
    "        #generate n_steps of trajectory:\n",
    "        for t in range(max_steps):\n",
    "            logits = self.network(state[np.newaxis])\n",
    "            action_probs = tf.nn.softmax(logits, axis=-1).numpy()            \n",
    "            action = np.random.choice(n_actions, p=action_probs[0])\n",
    "            next_state, reward, done, _ = env.step(action)\n",
    "            \n",
    "            #update arrays\n",
    "            states.append(state)\n",
    "            actions.append(action)\n",
    "            rewards.append(reward)\n",
    "            \n",
    "            state = next_state\n",
    "            if done:\n",
    "                break\n",
    "        \n",
    "        return np.array(states,np.float32), np.array(actions,np.int32), np.array(rewards, np.float32)\n",
    "        \n",
    "    def train_one_episode(self, ent_coeff=0.001):\n",
    "        states, actions, rewards = self.generate_trajectory()\n",
    " \n",
    "        reward_to_go = self.reward_to_go(rewards)\n",
    "\n",
    "        with tf.GradientTape() as tape:\n",
    "            \n",
    "            logits = self.network(states)\n",
    "            logits = tf.squeeze(logits)\n",
    "\n",
    "            probs = tf.nn.softmax(logits, -1)\n",
    "            log_probs = tf.nn.log_softmax(logits, -1)\n",
    "\n",
    "            row_indices= tf.range(actions.shape[0])\n",
    "            indices = tf.transpose([row_indices, actions])\n",
    "            log_probs_for_actions = tf.gather_nd(log_probs, indices)\n",
    "\n",
    "            obj = tf.reduce_mean(log_probs_for_actions*reward_to_go)\n",
    "            ent_loss = -tf.reduce_mean(tf.reduce_sum(probs*log_probs, -1))\n",
    "\n",
    "            loss = -(obj+ent_coeff*ent_loss)\n",
    "\n",
    "        grads = tape.gradient(loss, self.network.trainable_variables)\n",
    "        self.optimizer1.apply_gradients(zip(grads, self.network.trainable_variables))\n",
    "        \n",
    "        return np.sum(rewards) \n",
    "\n",
    "    "
   ]
  },
  {
   "cell_type": "code",
   "execution_count": 6,
   "metadata": {},
   "outputs": [
    {
     "name": "stdout",
     "output_type": "stream",
     "text": [
      "WARNING:tensorflow:Layer policy_net is casting an input tensor from dtype float64 to the layer's dtype of float32, which is new behavior in TensorFlow 2.  The layer has dtype float32 because it's dtype defaults to floatx.\n",
      "\n",
      "If you intended to run this layer in float32, you can safely ignore this warning. If in doubt, this warning is likely only an issue if you are porting a TensorFlow 1.X model to TensorFlow 2.\n",
      "\n",
      "To change all layers to have dtype float64 by default, call `tf.keras.backend.set_floatx('float64')`. To change just this layer, pass dtype='float64' to the layer constructor. If you are the author of this layer, you can disable autocasting by passing autocast=False to the base Layer constructor.\n",
      "\n",
      "mean reward after 100 episodes :32.858585357666016\n",
      "mean reward after 200 episodes :96.56565856933594\n",
      "mean reward after 300 episodes :234.14141845703125\n",
      "mean reward after 400 episodes :230.080810546875\n",
      "mean reward after 500 episodes :371.7878723144531\n"
     ]
    }
   ],
   "source": [
    "total_rewards = []\n",
    "total_loss = []\n",
    "ra = ReinforceAgent(env, state_dim, n_actions)\n",
    "\n",
    "for episode in range(10000):\n",
    "    reward = ra.train_one_episode() \n",
    "   \n",
    "    total_rewards.append(reward)\n",
    "\n",
    "    if episode != 0 and episode % 100 == 0:\n",
    "        mean_reward = np.mean(total_rewards[-100:-1])\n",
    "        print(f'mean reward after {episode} episodes :{mean_reward}')\n",
    "        if mean_reward > 250:\n",
    "            break\n",
    "env.close()"
   ]
  },
  {
   "cell_type": "code",
   "execution_count": null,
   "metadata": {},
   "outputs": [],
   "source": []
  }
 ],
 "metadata": {
  "kernelspec": {
   "display_name": "GYMTFGPU",
   "language": "python",
   "name": "python3"
  },
  "language_info": {
   "codemirror_mode": {
    "name": "ipython",
    "version": 3
   },
   "file_extension": ".py",
   "mimetype": "text/x-python",
   "name": "python",
   "nbconvert_exporter": "python",
   "pygments_lexer": "ipython3",
   "version": "3.7.7"
  },
  "orig_nbformat": 4
 },
 "nbformat": 4,
 "nbformat_minor": 2
}
